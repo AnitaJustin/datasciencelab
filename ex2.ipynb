{
 "cells": [
  {
   "cell_type": "code",
   "execution_count": 1,
   "id": "e2f0f66e",
   "metadata": {},
   "outputs": [],
   "source": [
    "import numpy as np"
   ]
  },
  {
   "cell_type": "code",
   "execution_count": 6,
   "id": "5ab89ede",
   "metadata": {},
   "outputs": [
    {
     "name": "stdout",
     "output_type": "stream",
     "text": [
      "enter the no of rows:3\n"
     ]
    }
   ],
   "source": [
    "row=int(input(\"enter the no of rows:\"))\n",
    "\n",
    "        "
   ]
  },
  {
   "cell_type": "code",
   "execution_count": 24,
   "id": "2b3fd3cf",
   "metadata": {},
   "outputs": [
    {
     "name": "stdout",
     "output_type": "stream",
     "text": [
      "enter the matrix elements:\n",
      "1\n",
      "2\n",
      "3\n",
      "4\n",
      "5\n",
      "6\n",
      "7\n",
      "8\n",
      "9\n"
     ]
    }
   ],
   "source": [
    "mat1=np.empty((row,row),dtype=\"int\")\n",
    "print(\"enter the matrix elements:\")\n",
    "for i in range(0,row):\n",
    "    for j in range(0,row):\n",
    "        mat1[i,j]=int(input())"
   ]
  },
  {
   "cell_type": "code",
   "execution_count": 26,
   "id": "84b2e400",
   "metadata": {},
   "outputs": [
    {
     "name": "stdout",
     "output_type": "stream",
     "text": [
      "enter the matrix elements:\n",
      "6\n",
      "5\n",
      "8\n",
      "9\n",
      "7\n",
      "4\n",
      "1\n",
      "2\n",
      "3\n"
     ]
    }
   ],
   "source": [
    "mat2=np.empty((row,row),dtype=\"int\")\n",
    "print(\"enter the matrix elements:\")\n",
    "for i in range(0,row):\n",
    "    for j in range(0,row):\n",
    "        mat2[i,j]=int(input())"
   ]
  },
  {
   "cell_type": "code",
   "execution_count": 34,
   "id": "3ffe5480",
   "metadata": {},
   "outputs": [
    {
     "name": "stdout",
     "output_type": "stream",
     "text": [
      "[[1 2 3]\n",
      " [4 5 6]\n",
      " [7 8 9]]\n"
     ]
    }
   ],
   "source": [
    "print(mat1)"
   ]
  },
  {
   "cell_type": "code",
   "execution_count": 27,
   "id": "e45d24e2",
   "metadata": {},
   "outputs": [
    {
     "name": "stdout",
     "output_type": "stream",
     "text": [
      "[[6 5 8]\n",
      " [9 7 4]\n",
      " [1 2 3]]\n"
     ]
    }
   ],
   "source": [
    "print(mat2)"
   ]
  },
  {
   "cell_type": "code",
   "execution_count": 28,
   "id": "d3fca461",
   "metadata": {},
   "outputs": [
    {
     "name": "stdout",
     "output_type": "stream",
     "text": [
      "[[ 27  25  25]\n",
      " [ 75  67  70]\n",
      " [123 109 115]]\n"
     ]
    }
   ],
   "source": [
    "dot=np.dot(mat1,mat2)\n",
    "print(dot)"
   ]
  },
  {
   "cell_type": "code",
   "execution_count": 29,
   "id": "6e9aa8d9",
   "metadata": {},
   "outputs": [
    {
     "name": "stdout",
     "output_type": "stream",
     "text": [
      "[[1 4 7]\n",
      " [2 5 8]\n",
      " [3 6 9]]\n"
     ]
    }
   ],
   "source": [
    "tr=np.transpose(mat1)\n",
    "print(tr)"
   ]
  },
  {
   "cell_type": "code",
   "execution_count": 30,
   "id": "686f0afa",
   "metadata": {},
   "outputs": [
    {
     "name": "stdout",
     "output_type": "stream",
     "text": [
      "15\n"
     ]
    }
   ],
   "source": [
    "trace=np.trace(mat1)\n",
    "print(trace)"
   ]
  },
  {
   "cell_type": "code",
   "execution_count": 31,
   "id": "c945009e",
   "metadata": {},
   "outputs": [
    {
     "name": "stdout",
     "output_type": "stream",
     "text": [
      "2\n"
     ]
    }
   ],
   "source": [
    "r=np.linalg.matrix_rank(mat1)\n",
    "print(r)"
   ]
  },
  {
   "cell_type": "code",
   "execution_count": 33,
   "id": "bdd794e3",
   "metadata": {},
   "outputs": [
    {
     "name": "stdout",
     "output_type": "stream",
     "text": [
      "51.0\n"
     ]
    }
   ],
   "source": [
    "det=np.linalg.det(mat2)\n",
    "print(det)"
   ]
  },
  {
   "cell_type": "code",
   "execution_count": 36,
   "id": "e01bc6db",
   "metadata": {},
   "outputs": [
    {
     "name": "stdout",
     "output_type": "stream",
     "text": [
      "[[ 0.25490196  0.01960784 -0.70588235]\n",
      " [-0.45098039  0.19607843  0.94117647]\n",
      " [ 0.21568627 -0.1372549  -0.05882353]]\n"
     ]
    }
   ],
   "source": [
    "inverse=np.linalg.inv(mat2)\n",
    "print(inverse)"
   ]
  },
  {
   "cell_type": "code",
   "execution_count": 38,
   "id": "41103958",
   "metadata": {},
   "outputs": [
    {
     "name": "stdout",
     "output_type": "stream",
     "text": [
      "eigen values: [ 1.61168440e+01 -1.11684397e+00 -1.30367773e-15]\n",
      "eigenvectors: [[-0.23197069 -0.78583024  0.40824829]\n",
      " [-0.52532209 -0.08675134 -0.81649658]\n",
      " [-0.8186735   0.61232756  0.40824829]]\n"
     ]
    }
   ],
   "source": [
    "eigv,eigvec=np.linalg.eig(mat1)\n",
    "print(\"eigen values:\",eigv)\n",
    "print(\"eigenvectors:\",eigvec)"
   ]
  },
  {
   "cell_type": "code",
   "execution_count": null,
   "id": "7da8ae6f",
   "metadata": {},
   "outputs": [],
   "source": []
  },
  {
   "cell_type": "code",
   "execution_count": null,
   "id": "a296ac17",
   "metadata": {},
   "outputs": [],
   "source": []
  }
 ],
 "metadata": {
  "kernelspec": {
   "display_name": "Python 3 (ipykernel)",
   "language": "python",
   "name": "python3"
  },
  "language_info": {
   "codemirror_mode": {
    "name": "ipython",
    "version": 3
   },
   "file_extension": ".py",
   "mimetype": "text/x-python",
   "name": "python",
   "nbconvert_exporter": "python",
   "pygments_lexer": "ipython3",
   "version": "3.9.12"
  }
 },
 "nbformat": 4,
 "nbformat_minor": 5
}
