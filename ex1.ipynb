{
 "cells": [
  {
   "cell_type": "code",
   "execution_count": 2,
   "id": "7d2fb9a2",
   "metadata": {},
   "outputs": [],
   "source": [
    "import numpy as np"
   ]
  },
  {
   "cell_type": "code",
   "execution_count": 2,
   "id": "b5e8081f",
   "metadata": {},
   "outputs": [],
   "source": [
    "x=np.array([3,5])"
   ]
  },
  {
   "cell_type": "code",
   "execution_count": 3,
   "id": "5ebc4d33",
   "metadata": {},
   "outputs": [
    {
     "name": "stdout",
     "output_type": "stream",
     "text": [
      "[3 5]\n"
     ]
    }
   ],
   "source": [
    "print(x)"
   ]
  },
  {
   "cell_type": "code",
   "execution_count": 4,
   "id": "2819a931",
   "metadata": {},
   "outputs": [],
   "source": [
    "y=np.array([6,9])"
   ]
  },
  {
   "cell_type": "code",
   "execution_count": 5,
   "id": "8597f2c3",
   "metadata": {},
   "outputs": [
    {
     "name": "stdout",
     "output_type": "stream",
     "text": [
      "[6 9]\n"
     ]
    }
   ],
   "source": [
    "print(y)"
   ]
  },
  {
   "cell_type": "code",
   "execution_count": 6,
   "id": "0d739d99",
   "metadata": {},
   "outputs": [
    {
     "name": "stdout",
     "output_type": "stream",
     "text": [
      "[False False]\n"
     ]
    }
   ],
   "source": [
    "print(np.greater(x,y))"
   ]
  },
  {
   "cell_type": "code",
   "execution_count": 7,
   "id": "edad9361",
   "metadata": {},
   "outputs": [
    {
     "name": "stdout",
     "output_type": "stream",
     "text": [
      "[ True  True]\n"
     ]
    }
   ],
   "source": [
    "print(np.less(x,y))"
   ]
  },
  {
   "cell_type": "code",
   "execution_count": 8,
   "id": "affd990b",
   "metadata": {},
   "outputs": [
    {
     "name": "stdout",
     "output_type": "stream",
     "text": [
      "[ True  True]\n"
     ]
    }
   ],
   "source": [
    "print(np.greater(y,x))"
   ]
  },
  {
   "cell_type": "code",
   "execution_count": 10,
   "id": "1bcbc2fc",
   "metadata": {},
   "outputs": [],
   "source": [
    "c=np.arange(30,71)"
   ]
  },
  {
   "cell_type": "code",
   "execution_count": 11,
   "id": "326f3644",
   "metadata": {},
   "outputs": [
    {
     "name": "stdout",
     "output_type": "stream",
     "text": [
      "[30 31 32 33 34 35 36 37 38 39 40 41 42 43 44 45 46 47 48 49 50 51 52 53\n",
      " 54 55 56 57 58 59 60 61 62 63 64 65 66 67 68 69 70]\n"
     ]
    }
   ],
   "source": [
    "print(c)"
   ]
  },
  {
   "cell_type": "code",
   "execution_count": 12,
   "id": "f119166f",
   "metadata": {},
   "outputs": [],
   "source": [
    "a=np.identity(3)"
   ]
  },
  {
   "cell_type": "code",
   "execution_count": 13,
   "id": "ba8df3f6",
   "metadata": {},
   "outputs": [
    {
     "name": "stdout",
     "output_type": "stream",
     "text": [
      "3*3 matrix\n"
     ]
    }
   ],
   "source": [
    "print('3*3 matrix')"
   ]
  },
  {
   "cell_type": "code",
   "execution_count": 14,
   "id": "554426b2",
   "metadata": {},
   "outputs": [
    {
     "name": "stdout",
     "output_type": "stream",
     "text": [
      "[[1. 0. 0.]\n",
      " [0. 1. 0.]\n",
      " [0. 0. 1.]]\n"
     ]
    }
   ],
   "source": [
    "print(a)"
   ]
  },
  {
   "cell_type": "code",
   "execution_count": 15,
   "id": "f2d9b98e",
   "metadata": {},
   "outputs": [
    {
     "name": "stdout",
     "output_type": "stream",
     "text": [
      "3*3 matrix\n",
      "[[1. 0. 0.]\n",
      " [0. 1. 0.]\n",
      " [0. 0. 1.]]\n"
     ]
    }
   ],
   "source": [
    "print('3*3 matrix')\n",
    "print(a)"
   ]
  },
  {
   "cell_type": "code",
   "execution_count": 17,
   "id": "99ccff66",
   "metadata": {},
   "outputs": [],
   "source": [
    "z=np.array([0,21])"
   ]
  },
  {
   "cell_type": "code",
   "execution_count": 18,
   "id": "70c70a05",
   "metadata": {},
   "outputs": [
    {
     "name": "stdout",
     "output_type": "stream",
     "text": [
      "the orginal matrix\n",
      "[ 0 21]\n"
     ]
    }
   ],
   "source": [
    "print('the orginal matrix')\n",
    "print(z)"
   ]
  },
  {
   "cell_type": "code",
   "execution_count": 19,
   "id": "bad3942a",
   "metadata": {},
   "outputs": [],
   "source": [
    "p=np.arange(0,21)"
   ]
  },
  {
   "cell_type": "code",
   "execution_count": 20,
   "id": "4fb9d16d",
   "metadata": {},
   "outputs": [
    {
     "name": "stdout",
     "output_type": "stream",
     "text": [
      "the orginal matrix \n",
      "[ 0  1  2  3  4  5  6  7  8  9 10 11 12 13 14 15 16 17 18 19 20]\n"
     ]
    }
   ],
   "source": [
    "print('the orginal matrix ')\n",
    "print(p)"
   ]
  },
  {
   "cell_type": "code",
   "execution_count": 21,
   "id": "8b2fe020",
   "metadata": {},
   "outputs": [],
   "source": [
    "p[(p>=9)&(p<=15)]*=-1"
   ]
  },
  {
   "cell_type": "code",
   "execution_count": 22,
   "id": "73843e2e",
   "metadata": {},
   "outputs": [
    {
     "name": "stdout",
     "output_type": "stream",
     "text": [
      "[  0   1   2   3   4   5   6   7   8  -9 -10 -11 -12 -13 -14 -15  16  17\n",
      "  18  19  20]\n"
     ]
    }
   ],
   "source": [
    "print(p)"
   ]
  },
  {
   "cell_type": "code",
   "execution_count": 4,
   "id": "c69a67c0",
   "metadata": {},
   "outputs": [
    {
     "name": "stdout",
     "output_type": "stream",
     "text": [
      "[[1 0 0 0 0]\n",
      " [0 2 0 0 0]\n",
      " [0 0 3 0 0]\n",
      " [0 0 0 4 0]\n",
      " [0 0 0 0 5]]\n"
     ]
    }
   ],
   "source": [
    "d=np.diag([1,2,3,4,5])\n",
    "print(d)"
   ]
  },
  {
   "cell_type": "code",
   "execution_count": 5,
   "id": "ceb8b329",
   "metadata": {},
   "outputs": [
    {
     "name": "stdout",
     "output_type": "stream",
     "text": [
      "15\n"
     ]
    }
   ],
   "source": [
    "print(d.sum())"
   ]
  },
  {
   "cell_type": "code",
   "execution_count": 6,
   "id": "b37a83cd",
   "metadata": {},
   "outputs": [
    {
     "name": "stdout",
     "output_type": "stream",
     "text": [
      "1\n"
     ]
    }
   ],
   "source": [
    "print(sum(d[0]))"
   ]
  },
  {
   "cell_type": "code",
   "execution_count": 9,
   "id": "e5f7db86",
   "metadata": {},
   "outputs": [
    {
     "name": "stdout",
     "output_type": "stream",
     "text": [
      "2\n"
     ]
    }
   ],
   "source": [
    "print(d[0][1]+d[1][1]+d[2][1]+d[3][1]+d[4][1])"
   ]
  },
  {
   "cell_type": "code",
   "execution_count": 10,
   "id": "6503fd5b",
   "metadata": {},
   "outputs": [
    {
     "name": "stdout",
     "output_type": "stream",
     "text": [
      "[1 2 3 4 5]\n"
     ]
    }
   ],
   "source": [
    "print(np.sum(d,axis=0))"
   ]
  },
  {
   "cell_type": "code",
   "execution_count": 11,
   "id": "a971d3f8",
   "metadata": {},
   "outputs": [
    {
     "name": "stdout",
     "output_type": "stream",
     "text": [
      "[1 2 3 4 5]\n"
     ]
    }
   ],
   "source": [
    "print(np.sum(d,axis=1))"
   ]
  },
  {
   "cell_type": "code",
   "execution_count": 14,
   "id": "5b4b1088",
   "metadata": {},
   "outputs": [],
   "source": [
    "h=np.array([[1,2,3],[4,5,6]])"
   ]
  },
  {
   "cell_type": "code",
   "execution_count": 16,
   "id": "23c30868",
   "metadata": {},
   "outputs": [
    {
     "name": "stdout",
     "output_type": "stream",
     "text": [
      "[[1 2 3]\n",
      " [4 5 6]]\n",
      "[ 6 15]\n",
      "[5 7 9]\n",
      "21\n"
     ]
    }
   ],
   "source": [
    "print(h)\n",
    "print(np.sum(h,axis=1))\n",
    "print(np.sum(h,axis=0))\n",
    "print(np.sum(h))"
   ]
  },
  {
   "cell_type": "code",
   "execution_count": 17,
   "id": "a82e20ad",
   "metadata": {},
   "outputs": [],
   "source": [
    "np.savetxt(\"trial.txt\",h)\n"
   ]
  },
  {
   "cell_type": "code",
   "execution_count": 19,
   "id": "4288602a",
   "metadata": {},
   "outputs": [
    {
     "data": {
      "text/plain": [
       "array([[1., 2., 3.],\n",
       "       [4., 5., 6.]])"
      ]
     },
     "execution_count": 19,
     "metadata": {},
     "output_type": "execute_result"
    }
   ],
   "source": [
    "np.loadtxt(\"trial.txt\")"
   ]
  },
  {
   "cell_type": "code",
   "execution_count": 21,
   "id": "266f2f08",
   "metadata": {},
   "outputs": [],
   "source": [
    " k=np.array([[1,2,3],[4,5,6]])\n",
    "l=np.array([[7,8,9],[8,5,2]])\n"
   ]
  },
  {
   "cell_type": "code",
   "execution_count": 22,
   "id": "f92ac895",
   "metadata": {},
   "outputs": [
    {
     "name": "stdout",
     "output_type": "stream",
     "text": [
      "[[False False False]\n",
      " [False  True False]]\n"
     ]
    }
   ],
   "source": [
    "print(np.equal(k,l))"
   ]
  },
  {
   "cell_type": "code",
   "execution_count": 23,
   "id": "8e4d2d59",
   "metadata": {},
   "outputs": [
    {
     "name": "stdout",
     "output_type": "stream",
     "text": [
      "[16 12  9 17]\n"
     ]
    }
   ],
   "source": [
    "t=np.random.randint(25, size=4)\n",
    "print(t)"
   ]
  },
  {
   "cell_type": "code",
   "execution_count": 24,
   "id": "85484c4a",
   "metadata": {},
   "outputs": [
    {
     "name": "stdout",
     "output_type": "stream",
     "text": [
      "[[ 6  3 10  0]\n",
      " [12 13 20 19]\n",
      " [ 1  7  5  9]\n",
      " [21 18  2 23]]\n"
     ]
    }
   ],
   "source": [
    "o=np.array([np.random.randint(25, size=4),np.random.randint(25, size=4),np.random.randint(25, size=4),np.random.randint(25, size=4)])\n",
    "print(o)"
   ]
  },
  {
   "cell_type": "code",
   "execution_count": 28,
   "id": "c5644140",
   "metadata": {},
   "outputs": [
    {
     "name": "stdout",
     "output_type": "stream",
     "text": [
      "[[21 18  2 23]\n",
      " [12 13 20 19]\n",
      " [ 1  7  5  9]\n",
      " [ 6  3 10  0]]\n"
     ]
    }
   ],
   "source": [
    "o[[0,3]]=o[[3,0]]\n",
    "print(o)"
   ]
  },
  {
   "cell_type": "code",
   "execution_count": 29,
   "id": "e40958a5",
   "metadata": {},
   "outputs": [
    {
     "name": "stdout",
     "output_type": "stream",
     "text": [
      "[[ 7 16 27]\n",
      " [32 25 12]]\n"
     ]
    }
   ],
   "source": [
    "print(np.multiply(k,l))\n"
   ]
  },
  {
   "cell_type": "code",
   "execution_count": null,
   "id": "bed019c7",
   "metadata": {},
   "outputs": [],
   "source": []
  }
 ],
 "metadata": {
  "kernelspec": {
   "display_name": "Python 3 (ipykernel)",
   "language": "python",
   "name": "python3"
  },
  "language_info": {
   "codemirror_mode": {
    "name": "ipython",
    "version": 3
   },
   "file_extension": ".py",
   "mimetype": "text/x-python",
   "name": "python",
   "nbconvert_exporter": "python",
   "pygments_lexer": "ipython3",
   "version": "3.10.12"
  }
 },
 "nbformat": 4,
 "nbformat_minor": 5
}
